{
 "cells": [
  {
   "cell_type": "code",
   "execution_count": 3,
   "metadata": {},
   "outputs": [
    {
     "ename": "SyntaxError",
     "evalue": "f-string: expecting '}' (2387425359.py, line 4)",
     "output_type": "error",
     "traceback": [
      "\u001b[0;36m  File \u001b[0;32m\"/var/folders/k1/zk066bvx76vb6dsqrq98mylm0000gn/T/ipykernel_6442/2387425359.py\"\u001b[0;36m, line \u001b[0;32m4\u001b[0m\n\u001b[0;31m    result = f'{''.join(random.sample(string.ascii_uppercase,2))}{random.randrange(100)}_{random.randrange(100)}{''.join(random.sample(string.ascii_uppercase,2))}'\u001b[0m\n\u001b[0m                                                                                                                                                                   ^\u001b[0m\n\u001b[0;31mSyntaxError\u001b[0m\u001b[0;31m:\u001b[0m f-string: expecting '}'\n"
     ]
    }
   ],
   "source": [
    "import random\n",
    "import string\n",
    "def generate_index():\n",
    "    result = f'{''.join(random.sample(string.ascii_uppercase,2))}{random.randrange(100)}_{random.randrange(100)}{''.join(random.sample(string.ascii_uppercase,2))}'\n",
    "    return result\n",
    "\n",
    "print(generate_index())\n",
    "\n"
   ]
  },
  {
   "cell_type": "code",
   "execution_count": 32,
   "metadata": {},
   "outputs": [
    {
     "name": "stdout",
     "output_type": "stream",
     "text": [
      "[4321756, 4450831, 4269047, 4218567, 4308215, 4630415, 4876021, 4589273, 4139840, 4729305, 4890176, 4948652, 4937840, 4526703, 4539840, 4063194, 4615423, 4174825, 4362759, 4984136, 4537641, 4174896, 4785491, 4260351, 4941287, 4196450, 4085162, 4062451, 4461358, 4862743, 4473108, 4819052, 4481935, 4059316, 4618709, 4619784, 4251468, 4541963, 4924170, 4310965, 4053984, 4371465, 4749326, 4261305, 4164893, 4209584, 4805769, 4815946, 4436809, 4821637, 4759230, 4630245, 4208965, 4268390, 4012573, 4108592, 4967413, 4609871, 4234195, 4287569, 4085271, 4479365, 4125874, 4756324, 4618249, 4695310, 4426917, 4201378, 4586120, 4350792, 4492561, 4650781, 4357094, 4931465, 4350642, 4365701, 4486791, 4694235, 4564721, 4597608, 4837425, 4975642, 4564978, 4946703, 4783064, 4867910, 4819642, 4438106, 4560473, 4341056, 4159048, 4564128, 4260389, 4628901, 4578620, 4164385, 4264095, 4359867, 4280549, 4507486]\n"
     ]
    }
   ],
   "source": [
    "import random\n",
    "import string\n",
    "result = []\n",
    "\n",
    "while len(result) < 100:\n",
    "    n = [4]\n",
    "    z = random.sample(string.digits,6)\n",
    "    n.extend(z)\n",
    "    combined_number = int(''.join(map(str, n)))\n",
    "    if combined_number not in result:\n",
    "        result.append(combined_number)\n",
    "    \n",
    "\n",
    "   \n",
    "\n",
    "print(result)"
   ]
  },
  {
   "cell_type": "code",
   "execution_count": 5,
   "metadata": {},
   "outputs": [
    {
     "name": "stdout",
     "output_type": "stream",
     "text": [
      "лапи\n"
     ]
    }
   ],
   "source": [
    "import random\n",
    "\n",
    "words = list(input())\n",
    "random.shuffle(words)\n",
    "\n",
    "print(''.join(words))\n"
   ]
  },
  {
   "cell_type": "code",
   "execution_count": 74,
   "metadata": {},
   "outputs": [
    {
     "name": "stdout",
     "output_type": "stream",
     "text": [
      "51  54  4   15  44 \n",
      "6   14  8   9   43 \n",
      "36  37  0   13  54 \n",
      "32  47  40  5   41 \n",
      "51  66  47  12  43 \n"
     ]
    }
   ],
   "source": [
    "import random\n",
    "matrix = []\n",
    "st = 5 // 2\n",
    "\n",
    "\n",
    "for i in range(5):\n",
    "    res = []\n",
    "    for j in range(5):\n",
    "        if i == st and j == st:\n",
    "            res.append(0)\n",
    "\n",
    "        else:\n",
    "            n = random.randint(1,75)\n",
    "            if n not in res:\n",
    "                res.append(n)\n",
    "            else:\n",
    "                res.append(random.randint(1, 75))\n",
    "    \n",
    "\n",
    "\n",
    "\n",
    "    if res not in matrix:\n",
    "        matrix.append(res)\n",
    "\n",
    "for i in matrix:\n",
    "    print(' '.join(str(x).ljust(3) for x in i))\n",
    "\n",
    "    "
   ]
  },
  {
   "cell_type": "code",
   "execution_count": 84,
   "metadata": {},
   "outputs": [
    {
     "name": "stdout",
     "output_type": "stream",
     "text": [
      "53  26  56  72  52 \n",
      "72  63  24  75  41 \n",
      "39  68  0   25  31 \n",
      "17  59  26  72  27 \n",
      "55  72  30  35  49 \n"
     ]
    }
   ],
   "source": [
    "import random\n",
    "matrix = []\n",
    "\n",
    "while len(matrix) != 5:\n",
    "    res = []\n",
    "    while len(res) != 5:\n",
    "        n = random.randint(1,75)\n",
    "        if n not in res:\n",
    "            res.append(n)\n",
    "        else:\n",
    "            continue\n",
    "    if res not in matrix:\n",
    "        matrix.append(res)\n",
    "    else:\n",
    "        continue\n",
    "\n",
    "st = 5 // 2\n",
    "matrix[st][st] = 0\n",
    "    \n",
    "for i in matrix:\n",
    "    print(' '.join(str(x).ljust(3) for x in i))\n",
    "\n"
   ]
  },
  {
   "cell_type": "code",
   "execution_count": 131,
   "metadata": {},
   "outputs": [
    {
     "name": "stdout",
     "output_type": "stream",
     "text": [
      "3   4   5   6   7  \n",
      "8   11  13  19  22 \n",
      "25  27  0   31  39 \n",
      "40  46  47  49  51 \n",
      "54  58  59  63  67 \n"
     ]
    }
   ],
   "source": [
    "import random\n",
    "import string\n",
    "\n",
    "dc = set()\n",
    "\n",
    "while len(dc) < 25: \n",
    "     dc.add(random.randint(1,72))\n",
    "\n",
    "my_list = list(dc)\n",
    "\n",
    "matrix = []\n",
    "s = 5\n",
    "for i in range(0,25,5):\n",
    "    matrix.append(my_list[i:i+5])\n",
    "\n",
    "matrix[2][2] = 0\n",
    "\n",
    "for i in matrix:\n",
    "     print(' '.join(str(x).ljust(3) for x in i))\n"
   ]
  },
  {
   "cell_type": "code",
   "execution_count": 134,
   "metadata": {},
   "outputs": [
    {
     "name": "stdout",
     "output_type": "stream",
     "text": [
      "[60, 35, 25, 48, 23, 54, 74, 24, 11, 17, 71, 72, 61, 18, 6, 16, 42, 30, 31, 69, 75, 37, 57, 39, 20]\n"
     ]
    }
   ],
   "source": [
    "from random import sample\n",
    "numbers = sample(range(1,76),25)\n",
    "print(numbers)"
   ]
  },
  {
   "cell_type": "code",
   "execution_count": 6,
   "metadata": {},
   "outputs": [
    {
     "name": "stdout",
     "output_type": "stream",
     "text": [
      "['Светлана Зуева - Борис Боков', 'Светлана Зуева - Аркадий Белых', 'Аркадий Белых - Борис Боков']\n"
     ]
    }
   ],
   "source": [
    "from random import *  \n",
    "n = 3\n",
    "st = ['Светлана Зуева', 'Аркадий Белых','Борис Боков']\n",
    "\n",
    "result = []\n",
    "\n",
    "while len(result) < 3:\n",
    "    st1 = choice(st)\n",
    "    st2 = choice(st)\n",
    "    if st1 != st2:\n",
    "        st3 = st1+' - '+st2\n",
    "        if st3 not in result:\n",
    "           result.append(st3)\n",
    "\n",
    "print(result)"
   ]
  },
  {
   "cell_type": "code",
   "execution_count": 70,
   "metadata": {},
   "outputs": [
    {
     "name": "stdout",
     "output_type": "stream",
     "text": [
      "Светлана Зуева - Аркадий Белых\n",
      "Аркадий Белых - Светлана Зуева\n",
      "Борис Боков - Светлана Зуева\n"
     ]
    }
   ],
   "source": [
    "from random import *  \n",
    "n = 3\n",
    "st = ['Светлана Зуева', 'Аркадий Белых','Борис Боков']\n",
    "\n",
    "result = []\n",
    "\n",
    "while True:\n",
    "    result.clear()\n",
    "    for i in st:\n",
    "        st1 = choice(st)\n",
    "        if st1 != i:\n",
    "            st3 = i +' - '+ st1\n",
    "            if st3 not in result:\n",
    "                result.append(st3)\n",
    "                \n",
    "    if len(result) == 3:\n",
    "        break\n",
    "\n",
    "for i in result:\n",
    "    print(i)"
   ]
  },
  {
   "cell_type": "code",
   "execution_count": 101,
   "metadata": {},
   "outputs": [
    {
     "name": "stdout",
     "output_type": "stream",
     "text": [
      "Светлана Зуева  -  Борис Боков\n",
      "Аркадий Белых  -  Светлана Зуева\n",
      "Борис Боков  -  Аркадий Белых\n"
     ]
    }
   ],
   "source": [
    "from random import *  \n",
    "n = 3\n",
    "st = {'Светлана Зуева': ' ', 'Аркадий Белых': ' ','Борис Боков':''}\n",
    "st2 = ['Светлана Зуева', 'Аркадий Белых','Борис Боков']\n",
    "shuffle(st2)\n",
    "result = {}\n",
    "\n",
    "\n",
    "while True:\n",
    "    result.clear()\n",
    "    for k,v in st.items():\n",
    "        for i in st2:\n",
    "            m = result.values()\n",
    "            if i != k and i not in m:\n",
    "                result[k] = i\n",
    "\n",
    "    if len(result) == 3:\n",
    "        break       \n",
    "    \n",
    "for k,v in result.items():\n",
    "    print(k,' - ',v)\n"
   ]
  },
  {
   "cell_type": "code",
   "execution_count": null,
   "metadata": {},
   "outputs": [],
   "source": [
    "from random import *  \n",
    "\n",
    "\n",
    "def derangement(lst):\n",
    "    while True:\n",
    "        shuffled = lst.copy() #Создаем копию списка - данные которые поступают в функция\n",
    "        shuffle(shuffled) #Перемешиваем значения в списке ранодмно\n",
    "        if all( a != b for a,b in zip(lst,shuffled)): #Условие при котором мы проверяем если значение из lst и значение из shuffles не равны который поступили в a и b если не равны то происходит объединение \n",
    "            #этих элементов в словарь методом  zip и так происходит пока все элементы в shuffled будут не равны друг с другом \n",
    "            #то есть должно так выдти что shuffled должен перемишаться таким образом что бы элементы 2 списокв были не равны друг другу и если такое условие выполняется то all возвращает true а return возвращает словарь  \n",
    "            return shuffled #return останавливает выполнение цикла while\n",
    "\n",
    "\n",
    "\n",
    "\n",
    "\n",
    "\n",
    "\n",
    "n = 3\n",
    "\n",
    "names = ['Светлана Зуева', 'Аркадий Белых','Борис Боков']\n",
    "shuffle_names = derangement(names) #переменная куда будет возвращать реузльтата функция derangement которой в свою очередь аргумент переменная names\n",
    "\n",
    "###Пошаговое объяснение работы условия с zip(), генераторным выражением и функцией all():\n",
    "#zip(lst, shuffled):\n",
    "\n",
    "#Что делает zip():\n",
    "##Функция zip() берёт элементы из нескольких итерируемых объектов (в вашем случае из lst и shuffled) и объединяет их в кортежи, группируя элементы с одинаковыми индексами.\n",
    "#Например, если у вас есть lst = [a1, a2, a3] и shuffled = [b1, b2, b3], то zip(lst, shuffled) создаст итерируемый объект, содержащий кортежи: [(a1, b1), (a2, b2), (a3, b3)].\n",
    "#Генераторное выражение a != b for a, b in zip(lst, shuffled):\n",
    "\n",
    "#Как оно работает:\n",
    "#Проходит по каждому кортежу (a, b), полученному из zip(lst, shuffled).\n",
    "#В каждой итерации присваивает a элемент из lst и b соответствующий элемент из shuffled.\n",
    "#Затем выполняется сравнение a != b, которое возвращает True, если элементы не равны, и False, если равны.\n",
    "#Функция all(...):\n",
    "\n",
    "#Что делает all():\n",
    "#Принимает генераторное выражение и проверяет, что все значения внутри него являются True.\n",
    "#Если встречается хотя бы одно значение False, функция all() немедленно возвращает False.\n",
    "#Если генераторное выражение полностью исчерпано и все значения были True, all() возвращает True.\n",
    "#Условие if all(a != b for a, b in zip(lst, shuffled)):\n",
    "\n",
    "#Как работает условие:\n",
    "#Если все пары (a, b) удовлетворяют условию a != b (то есть каждый элемент из lst не равен соответствующему элементу из shuffled), то all() возвращает True, и условие выполняется.\n",
    "#Это означает, что ни один элемент не остался на своём первоначальном месте после перемешивания.\n",
    "#Действия при выполнении условия:\n",
    "\n",
    "#return shuffled:\n",
    "#Если условие выполнено, перемешанный список shuffled возвращается из функции derangement.\n",
    "#Цикл while True завершается, так как функция возвращает значение.\n",
    "#Итого:\n",
    "#zip() поочерёдно берёт элементы из lst и shuffled и объединяет их в кортежи (a, b).\n",
    "#Генераторное выражение распределяет элементы кортежей по переменным a и b и сравнивает их.\n",
    "#Если все элементы a и b не равны между собой, генераторное выражение производит последовательность True.\n",
    "#Функция all() проверяет эту последовательность и возвращает True, если все значения истинны.\n",
    "#Когда all() возвращает True, это означает, что после перемешивания ни один элемент не остался на своём месте, и мы можем вернуть перемешанный список.###\n",
    "\n"
   ]
  },
  {
   "cell_type": "code",
   "execution_count": 17,
   "metadata": {},
   "outputs": [
    {
     "name": "stdout",
     "output_type": "stream",
     "text": [
      "6Zb\n",
      "A3v\n",
      "eB9\n"
     ]
    },
    {
     "name": "stderr",
     "output_type": "stream",
     "text": [
      "/var/folders/k1/zk066bvx76vb6dsqrq98mylm0000gn/T/ipykernel_19117/960000262.py:5: DeprecationWarning: Sampling from a set deprecated\n",
      "since Python 3.9 and will be removed in a subsequent version.\n",
      "  let1 = sample((set(string.ascii_lowercase)) - set('lI1oO0'), 1)\n",
      "/var/folders/k1/zk066bvx76vb6dsqrq98mylm0000gn/T/ipykernel_19117/960000262.py:6: DeprecationWarning: Sampling from a set deprecated\n",
      "since Python 3.9 and will be removed in a subsequent version.\n",
      "  let2 = sample((set(string.digits)) - set('lI1oO0'), 1)\n",
      "/var/folders/k1/zk066bvx76vb6dsqrq98mylm0000gn/T/ipykernel_19117/960000262.py:7: DeprecationWarning: Sampling from a set deprecated\n",
      "since Python 3.9 and will be removed in a subsequent version.\n",
      "  let3 = sample((set(string.ascii_uppercase)) - set('lI1oO0'), 1)\n",
      "/var/folders/k1/zk066bvx76vb6dsqrq98mylm0000gn/T/ipykernel_19117/960000262.py:8: DeprecationWarning: Sampling from a set deprecated\n",
      "since Python 3.9 and will be removed in a subsequent version.\n",
      "  let4 = sample((set(string.ascii_letters)) - set('lI1oO0'), length-3)\n"
     ]
    }
   ],
   "source": [
    "\n",
    "from random import sample\n",
    "import string\n",
    "\n",
    "def generate_password(length):\n",
    "    let1 = sample((set(string.ascii_lowercase)) - set('lI1oO0'), 1)\n",
    "    let2 = sample((set(string.digits)) - set('lI1oO0'), 1)\n",
    "    let3 = sample((set(string.ascii_uppercase)) - set('lI1oO0'), 1)\n",
    "    let4 = sample((set(string.ascii_letters)) - set('lI1oO0'), length-3)\n",
    "    letter = let1 + let2 + let3 + let4\n",
    "    password = ''.join(sample(letter, length))\n",
    "    return password\n",
    "\n",
    "\n",
    "def generate_passwords(count, length):\n",
    "    passwords = []\n",
    "    for i in range(count):\n",
    "        result_password = generate_password(length)\n",
    "        passwords.append(result_password)\n",
    "    return passwords\n",
    "\n",
    "n, m = int(input()), int(input())\n",
    "\n",
    "passwords = generate_passwords(n,m)\n",
    "\n",
    "for i in passwords:\n",
    "    print(i)\n"
   ]
  },
  {
   "cell_type": "code",
   "execution_count": 12,
   "metadata": {},
   "outputs": [
    {
     "name": "stdout",
     "output_type": "stream",
     "text": [
      "['W']\n"
     ]
    },
    {
     "name": "stderr",
     "output_type": "stream",
     "text": [
      "/var/folders/k1/zk066bvx76vb6dsqrq98mylm0000gn/T/ipykernel_19117/2569550289.py:4: DeprecationWarning: Sampling from a set deprecated\n",
      "since Python 3.9 and will be removed in a subsequent version.\n",
      "  print(sample((set(string.ascii_letters)) - set('lI1oO0'), 1))\n"
     ]
    }
   ],
   "source": [
    "from random import *\n",
    "import string\n",
    "\n",
    "print(sample((set(string.ascii_letters)) - set('lI1oO0'), 1))\n",
    "\n"
   ]
  },
  {
   "cell_type": "code",
   "execution_count": 6,
   "metadata": {},
   "outputs": [
    {
     "name": "stdout",
     "output_type": "stream",
     "text": [
      "7.132896\n"
     ]
    }
   ],
   "source": [
    "from random import *\n",
    "\n",
    "n = 10**6\n",
    "s0 = 2**4\n",
    "k = 0\n",
    "c = 100\n",
    "\n",
    "for i in range(n):\n",
    "    x = uniform(-2, 2)\n",
    "    y = uniform(-2, 2)\n",
    "    if x ** 3 + y ** 4 + 2 >= 0 and 3 * x + y ** 2 <= 2:\n",
    "        k += 1\n",
    "        c += 3\n",
    "\n",
    "print((k/n) * s0)\n",
    "print('commit1')\n"
   ]
  },
  {
   "cell_type": "code",
   "execution_count": 11,
   "metadata": {},
   "outputs": [
    {
     "name": "stdout",
     "output_type": "stream",
     "text": [
      "3.141\n"
     ]
    }
   ],
   "source": [
    "from random import *\n",
    "\n",
    "n = 10**6\n",
    "s0 = 4\n",
    "k = 0\n",
    "r = 2 * 2\n",
    "\n",
    "for i in range(n):\n",
    "    x = uniform(-1, 1)\n",
    "    y = uniform(-1, 1)\n",
    "    if x ** 2 + y ** 2 <= 1:\n",
    "        k += 1\n",
    "        r += 12\n",
    "\n",
    "print((k/n) * s0)\n",
    "print('Код для restore')"
   ]
  },
  {
   "cell_type": "code",
   "execution_count": null,
   "metadata": {},
   "outputs": [],
   "source": []
  }
 ],
 "metadata": {
  "kernelspec": {
   "display_name": "Python 3",
   "language": "python",
   "name": "python3"
  },
  "language_info": {
   "codemirror_mode": {
    "name": "ipython",
    "version": 3
   },
   "file_extension": ".py",
   "mimetype": "text/x-python",
   "name": "python",
   "nbconvert_exporter": "python",
   "pygments_lexer": "ipython3",
   "version": "3.9.13"
  }
 },
 "nbformat": 4,
 "nbformat_minor": 2
}
