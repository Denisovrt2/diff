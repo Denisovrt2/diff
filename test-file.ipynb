{
 "cells": [
  {
   "cell_type": "code",
   "execution_count": null,
   "metadata": {},
   "outputs": [],
   "source": [
    "from random import *\n",
    "\n",
    "n = 10**6\n",
    "s0 = 2**4\n",
    "k = 0\n",
    "c = 100\n",
    "\n",
    "for i in range(n):\n",
    "    x = uniform(-2, 2)\n",
    "    y = uniform(-2, 2)\n",
    "    if x ** 3 + y ** 4 + 2 >= 0 and 3 * x + y ** 2 <= 2:\n",
    "        k += 1\n",
    "        c += 3\n",
    "\n",
    "print((k/n) * s0)\n",
    "print('commit4')"
   ]
  }
 ],
 "metadata": {
  "language_info": {
   "name": "python"
  }
 },
 "nbformat": 4,
 "nbformat_minor": 2
}
