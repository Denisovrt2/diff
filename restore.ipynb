{
 "cells": [
  {
   "cell_type": "code",
   "execution_count": null,
   "metadata": {},
   "outputs": [],
   "source": [
    "import random\n",
    "import string\n",
    "result = []\n",
    "\n",
    "while len(result) < 100:\n",
    "    n = [4]\n",
    "    z = random.sample(string.digits,6)\n",
    "    n.extend(z)\n",
    "    combined_number = int(''.join(map(str, n)))\n",
    "    if combined_number not in result:\n",
    "        result.append(combined_number)\n",
    "        print(n,'Для restore')\n",
    "    \n",
    "\n",
    "   \n",
    "\n",
    "print(result)"
   ]
  }
 ],
 "metadata": {
  "language_info": {
   "name": "python"
  }
 },
 "nbformat": 4,
 "nbformat_minor": 2
}
